{
  "nbformat": 4,
  "nbformat_minor": 0,
  "metadata": {
    "colab": {
      "provenance": [],
      "gpuType": "T4"
    },
    "kernelspec": {
      "name": "python3",
      "display_name": "Python 3"
    },
    "language_info": {
      "name": "python"
    },
    "accelerator": "GPU"
  },
  "cells": [
    {
      "cell_type": "code",
      "source": [
        "!pip install azureml-sdk"
      ],
      "metadata": {
        "id": "NBfPWRxnCi3s"
      },
      "execution_count": null,
      "outputs": []
    },
    {
      "cell_type": "code",
      "source": [
        "from azureml.core import Workspace\n",
        "from azureml.core.model import Model\n",
        "from azureml.core.environment import Environment\n",
        "from azureml.core.conda_dependencies import CondaDependencies\n",
        "from azureml.core.model import InferenceConfig\n",
        "from azureml.core.webservice import AciWebservice\n",
        "from azureml.core.authentication import InteractiveLoginAuthentication"
      ],
      "metadata": {
        "id": "t_KHFy0sCeTK"
      },
      "execution_count": null,
      "outputs": []
    },
    {
      "cell_type": "code",
      "source": [
        "import json\n",
        "\n",
        "azure_id = open('azure-id.json','r')\n",
        "my_id = json.load(azure_id)['my_id']"
      ],
      "metadata": {
        "id": "T7cxVn5vCtDC"
      },
      "execution_count": null,
      "outputs": []
    },
    {
      "cell_type": "code",
      "source": [
        "ws = Workspace.create(name=\"ModeloSQL\",\n",
        "                      subscription_id= my_id,\n",
        "                      resource_group = \"ModeloSQL\",\n",
        "                      location = \"centralindia\")"
      ],
      "metadata": {
        "id": "8KD_xM7NDEub"
      },
      "execution_count": null,
      "outputs": []
    },
    {
      "cell_type": "code",
      "source": [
        "# Load regression model\n",
        "reg_model = Model.register(model_path=\"model.pkl\",\n",
        "                                  model_name=\"date-regressor\",\n",
        "                                  workspace=ws)"
      ],
      "metadata": {
        "id": "4YKOb81vDePG"
      },
      "execution_count": null,
      "outputs": []
    },
    {
      "cell_type": "code",
      "source": [
        "# Create environment with relevant libraries\n",
        "venv = Environment(\"env-datepred\")\n",
        "venv.python.conda_dependencies = CondaDependencies.create(conda_packages=['pandas','scikit-learn','matplotlib'])"
      ],
      "metadata": {
        "id": "MG4luovNDknJ"
      },
      "execution_count": null,
      "outputs": []
    },
    {
      "cell_type": "code",
      "source": [
        "# Load scoring script\n",
        "inference_config = InferenceConfig(environment=venv,entry_script=\"score.py\")\n",
        "\n",
        "# Create a new ACI web service configuration\n",
        "aci_config = AciWebservice.deploy_configuration(cpu_cores=2, memory_gb=8)\n",
        "\n",
        "# Deploy the model as a web service\n",
        "service = Model.deploy(workspace=ws,\n",
        "                       name='service',\n",
        "                       models=[reg_model],\n",
        "                       inference_config=inference_config,\n",
        "                       deployment_config=aci_config,\n",
        "                       overwrite=True,\n",
        "                       )"
      ],
      "metadata": {
        "id": "8LdWU7rpEEeO"
      },
      "execution_count": null,
      "outputs": []
    },
    {
      "cell_type": "code",
      "source": [
        "service.wait_for_deployment()"
      ],
      "metadata": {
        "id": "84L_Cg-GGS2o"
      },
      "execution_count": null,
      "outputs": []
    },
    {
      "cell_type": "code",
      "source": [
        "# Generate scoring URI in Azure for model evaluation\n",
        "scoring_uri = service.scoring_uri\n",
        "\n",
        "scoreuri = json.dumps({\"URI\": [scoring_uri]})\n",
        "file = open(\"uri3.json\", \"w\")\n",
        "file.write(scoreuri)\n",
        "file.close()"
      ],
      "metadata": {
        "id": "saFjhwuNGU_n"
      },
      "execution_count": null,
      "outputs": []
    }
  ]
}