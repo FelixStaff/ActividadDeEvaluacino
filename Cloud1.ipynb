{
  "cells": [
    {
      "cell_type": "markdown",
      "metadata": {},
      "source": [
        "### Clase 1: Introducción al cómputo en la nube\n",
        "\n",
        "En esta clase veremos brevemente sobre lo que es y no es el cómputo en la nube. También, aprenderás a hacer tu cuenta en Azure y desplegarás tu primer modelo de Machine Learning en la nube.\n",
        "\n",
        "Este archivo corresponde a esta última parte."
      ]
    },
    {
      "cell_type": "markdown",
      "metadata": {},
      "source": [
        "## 1.1 Experimentos de Machine Learning.\n",
        "\n",
        "A continuación, presentamos un experimento pequeño sobre Machine Learning."
      ]
    },
    {
      "cell_type": "markdown",
      "metadata": {},
      "source": [
        "Entonces los guardamos con el formato Pickle (ADVERTENCIA, NO ES SEGURO)"
      ]
    },
    {
      "cell_type": "code",
      "execution_count": 12,
      "metadata": {
        "id": "jVmqxRZQEfYV"
      },
      "outputs": [],
      "source": [
        "import pickle\n",
        "\n",
        "file = open('linear_regressor.pkl', 'wb')\n",
        "pickle.dump(reg, file)\n",
        "file.close()"
      ]
    },
    {
      "cell_type": "markdown",
      "metadata": {
        "id": "auNCALkxgO_3"
      },
      "source": [
        "# DESPLEGANDO EN LA NUBE.\n",
        "\n",
        "Lo primero que debemos hacer es generar un espacio de trabajo (workspace), utilizando para ello el id de nuestra suscripción."
      ]
    },
    {
      "cell_type": "code",
      "execution_count": 1,
      "metadata": {
        "colab": {
          "base_uri": "https://localhost:8080/"
        },
        "id": "ai6_sj9-IKI7",
        "outputId": "db9e6489-b9f5-421d-ca5b-536428789d8a"
      },
      "outputs": [
        {
          "name": "stderr",
          "output_type": "stream",
          "text": [
            "Failure while loading azureml_run_type_providers. Failed to load entrypoint automl = azureml.train.automl.run:AutoMLRun._from_run_dto with exception (numpy 1.26.4 (c:\\users\\felip\\miniconda3\\envs\\mlearn\\lib\\site-packages), Requirement.parse('numpy!=1.19.4,<1.24; sys_platform == \"win32\"'), {'azureml-dataset-runtime'}).\n"
          ]
        },
        {
          "name": "stdout",
          "output_type": "stream",
          "text": [
            "Cleaning up past default Resource Group Deployments on the subscription to avoid limit of 10\n",
            "Deleting past Resource Group Deployment with name: DeployResourceGroup-d87935a90b\n",
            "Deploying KeyVault with name testmodekeyvault261f69e8.\n",
            "Deploying StorageAccount with name testmodestoragee2091e308.\n",
            "Deploying AppInsights with name testmodeinsights0194cc63.\n",
            "Deployed AppInsights with name testmodeinsights0194cc63. Took 28.15 seconds.\n",
            "Deploying Workspace with name testmodel.\n",
            "Deployed Workspace with name testmodel. Took 41.73 seconds.\n"
          ]
        }
      ],
      "source": [
        "#GETTING MY ID:\n",
        "import json\n",
        "\n",
        "id = open('my_id.json', 'r')\n",
        "mi = json.load(id)\n",
        "\n",
        "from azureml.core import Workspace\n",
        "\n",
        "ws = Workspace.create(name=\"testmodel\",\n",
        "                      subscription_id = mi[\"my_id\"],\n",
        "                      resource_group = \"deploymodel\",\n",
        "                      location = \"centralindia\") #centralindia"
      ]
    },
    {
      "cell_type": "markdown",
      "metadata": {},
      "source": [
        "Posteriormente, registramos el modelo que vamos a utilizar. En este caso, el modelo en formato pickle. También hay que asignarle un nombre."
      ]
    },
    {
      "cell_type": "code",
      "execution_count": 2,
      "metadata": {
        "colab": {
          "base_uri": "https://localhost:8080/"
        },
        "id": "uknSb6doJDT6",
        "outputId": "01da2e74-180e-4c37-d801-deac146dd3e7"
      },
      "outputs": [
        {
          "name": "stdout",
          "output_type": "stream",
          "text": [
            "Registering model modelreg\n"
          ]
        }
      ],
      "source": [
        "from azureml.core.model import Model\n",
        "\n",
        "registered_model = Model.register(model_path=\"model.pkl\",\n",
        "                                  model_name=\"modelreg\",\n",
        "                                  workspace=ws)"
      ]
    },
    {
      "cell_type": "code",
      "execution_count": 3,
      "metadata": {
        "id": "3hLv_p5_Jait"
      },
      "outputs": [],
      "source": [
        "from azureml.core.environment import Environment\n",
        "virtual_env = Environment(\"env\")\n",
        "\n",
        "from azureml.core.conda_dependencies import CondaDependencies\n",
        "virtual_env.python.conda_dependencies = CondaDependencies.create(conda_packages=[\n",
        "    'pandas',\n",
        "    'scikit-learn'\n",
        "    ])"
      ]
    },
    {
      "cell_type": "code",
      "execution_count": 4,
      "metadata": {
        "id": "eNBvdgwAkonj"
      },
      "outputs": [
        {
          "name": "stderr",
          "output_type": "stream",
          "text": [
            "C:\\Users\\Felip\\AppData\\Local\\Temp\\ipykernel_27584\\979962562.py:10: FutureWarning: azureml.core.model:\n",
            "To leverage new model deployment capabilities, AzureML recommends using CLI/SDK v2 to deploy models as online endpoint, \n",
            "please refer to respective documentations \n",
            "https://docs.microsoft.com/azure/machine-learning/how-to-deploy-managed-online-endpoints /\n",
            "https://docs.microsoft.com/azure/machine-learning/how-to-attach-kubernetes-anywhere \n",
            "For more information on migration, see https://aka.ms/acimoemigration \n",
            "To disable CLI/SDK v1 deprecation warning set AZUREML_LOG_DEPRECATION_WARNING_ENABLED to 'False'\n",
            "  service = Model.deploy(workspace=ws,\n"
          ]
        }
      ],
      "source": [
        "from azureml.core.model import InferenceConfig\n",
        "from azureml.core.webservice import AciWebservice\n",
        "\n",
        "inference_config = InferenceConfig(\n",
        "                                environment=virtual_env,\n",
        "                                entry_script=\"API/score.py\",\n",
        "                                )\n",
        "aci_config = AciWebservice.deploy_configuration(cpu_cores=0.5, memory_gb=1)\n",
        "\n",
        "service = Model.deploy(workspace=ws,\n",
        "                       name='testmodel',\n",
        "                       models=[registered_model],\n",
        "                       inference_config=inference_config,\n",
        "                       deployment_config=aci_config,\n",
        "                       overwrite=True,\n",
        "                       )"
      ]
    },
    {
      "cell_type": "code",
      "execution_count": null,
      "metadata": {},
      "outputs": [],
      "source": [
        "service.wait_for_deployment()"
      ]
    },
    {
      "cell_type": "code",
      "execution_count": null,
      "metadata": {
        "id": "Vj_79q94LbcU"
      },
      "outputs": [],
      "source": [
        "scoring_uri = service.scoring_uri\n",
        "# Save the uri to a file\n",
        "with open('scoring_uri.txt', 'w') as f:\n",
        "    f.write(scoring_uri)\n"
      ]
    },
    {
      "cell_type": "markdown",
      "metadata": {},
      "source": [
        "## USING THE MODEL"
      ]
    },
    {
      "cell_type": "code",
      "execution_count": null,
      "metadata": {
        "colab": {
          "base_uri": "https://localhost:8080/",
          "height": 356
        },
        "id": "zKBckafANHB2",
        "outputId": "93998e0e-8258-4739-b87e-9002add33ab3"
      },
      "outputs": [
        {
          "name": "stdout",
          "output_type": "stream",
          "text": [
            "{'result': [-12493018.054463292, -10942548.677924668]}\n"
          ]
        },
        {
          "data": {
            "text/html": [
              "<div>\n",
              "<style scoped>\n",
              "    .dataframe tbody tr th:only-of-type {\n",
              "        vertical-align: middle;\n",
              "    }\n",
              "\n",
              "    .dataframe tbody tr th {\n",
              "        vertical-align: top;\n",
              "    }\n",
              "\n",
              "    .dataframe thead th {\n",
              "        text-align: right;\n",
              "    }\n",
              "</style>\n",
              "<table border=\"1\" class=\"dataframe\">\n",
              "  <thead>\n",
              "    <tr style=\"text-align: right;\">\n",
              "      <th></th>\n",
              "      <th>longitude</th>\n",
              "      <th>latitude</th>\n",
              "      <th>housing_median_age</th>\n",
              "      <th>total_rooms</th>\n",
              "      <th>total_bedrooms</th>\n",
              "      <th>population</th>\n",
              "      <th>households</th>\n",
              "      <th>median_income</th>\n",
              "      <th>median_house_value</th>\n",
              "    </tr>\n",
              "  </thead>\n",
              "  <tbody>\n",
              "    <tr>\n",
              "      <th>0</th>\n",
              "      <td>-230.10</td>\n",
              "      <td>50.1</td>\n",
              "      <td>10</td>\n",
              "      <td>798</td>\n",
              "      <td>26</td>\n",
              "      <td>435346</td>\n",
              "      <td>123</td>\n",
              "      <td>2.325345</td>\n",
              "      <td>-1.249302e+07</td>\n",
              "    </tr>\n",
              "    <tr>\n",
              "      <th>1</th>\n",
              "      <td>-195.56</td>\n",
              "      <td>65.3</td>\n",
              "      <td>20</td>\n",
              "      <td>675</td>\n",
              "      <td>79</td>\n",
              "      <td>346234</td>\n",
              "      <td>4523</td>\n",
              "      <td>3.423424</td>\n",
              "      <td>-1.094255e+07</td>\n",
              "    </tr>\n",
              "  </tbody>\n",
              "</table>\n",
              "</div>"
            ],
            "text/plain": [
              "   longitude  latitude  housing_median_age  total_rooms  total_bedrooms  \\\n",
              "0    -230.10      50.1                  10          798              26   \n",
              "1    -195.56      65.3                  20          675              79   \n",
              "\n",
              "   population  households  median_income  median_house_value  \n",
              "0      435346         123       2.325345       -1.249302e+07  \n",
              "1      346234        4523       3.423424       -1.094255e+07  "
            ]
          },
          "metadata": {},
          "output_type": "display_data"
        }
      ],
      "source": [
        "import pandas as pd\n",
        "input_data = pd.read_csv(\"load_data/temp_data/output.csv\")\n",
        "    # Serialize the first 5 rows of the DataFrame to JSON\n",
        "input_data = input_data.head(5).to_json(orient=\"records\")\n",
        "input_data = {\n",
        "    \"data\": json.loads(input_data)  # Asegúrate de que sea una lista de registros\n",
        "}\n",
        "import json\n",
        "two_houses_json = json.dumps({\"data\": [two_houses]})\n",
        "\n",
        "headers = {\"Content-Type\": \"application/json\"}\n",
        "\n",
        "import requests\n",
        "response = requests.post(scoring_uri, \n",
        "                         data=two_houses_json, \n",
        "                         headers=headers)\n",
        "\n",
        "if response.status_code == 200:\n",
        "  result = json.loads(response.json())\n",
        "  print(result)\n",
        "  two_houses[\"median_house_value\"] = result[\"result\"]\n",
        "  display(pd.DataFrame(two_houses))\n",
        "else:\n",
        "  print(f\"Error: {response.text}\")"
      ]
    }
  ],
  "metadata": {
    "colab": {
      "provenance": []
    },
    "kernelspec": {
      "display_name": "MLearn",
      "language": "python",
      "name": "python3"
    },
    "language_info": {
      "codemirror_mode": {
        "name": "ipython",
        "version": 3
      },
      "file_extension": ".py",
      "mimetype": "text/x-python",
      "name": "python",
      "nbconvert_exporter": "python",
      "pygments_lexer": "ipython3",
      "version": "3.11.8"
    }
  },
  "nbformat": 4,
  "nbformat_minor": 0
}
